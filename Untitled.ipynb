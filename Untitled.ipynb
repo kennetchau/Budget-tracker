{
 "cells": [
  {
   "cell_type": "code",
   "execution_count": 1,
   "id": "9975c040",
   "metadata": {},
   "outputs": [],
   "source": [
    "# python 3 \n",
    "# a script for analyzing a company performance"
   ]
  },
  {
   "cell_type": "code",
   "execution_count": 1,
   "id": "0230b7d8",
   "metadata": {},
   "outputs": [],
   "source": [
    "import numpy as np \n",
    "import pandas as pd \n",
    "import matplotlib "
   ]
  },
  {
   "cell_type": "code",
   "execution_count": 3,
   "id": "4f6392ed",
   "metadata": {},
   "outputs": [],
   "source": [
    "class catk:\n",
    "    def __init__(self, pd):\n",
    "        selfdf = df"
   ]
  },
  {
   "cell_type": "code",
   "execution_count": null,
   "id": "a0a38e3e",
   "metadata": {},
   "outputs": [],
   "source": [
    "pd = "
   ]
  },
  {
   "cell_type": "code",
   "execution_count": null,
   "id": "77d3d58f",
   "metadata": {},
   "outputs": [],
   "source": []
  }
 ],
 "metadata": {
  "kernelspec": {
   "display_name": "Python 3",
   "language": "python",
   "name": "python3"
  },
  "language_info": {
   "codemirror_mode": {
    "name": "ipython",
    "version": 3
   },
   "file_extension": ".py",
   "mimetype": "text/x-python",
   "name": "python",
   "nbconvert_exporter": "python",
   "pygments_lexer": "ipython3",
   "version": "3.7.10"
  }
 },
 "nbformat": 4,
 "nbformat_minor": 5
}
