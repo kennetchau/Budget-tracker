{
 "cells": [
  {
   "cell_type": "code",
   "execution_count": null,
   "id": "0540b5e9",
   "metadata": {},
   "outputs": [],
   "source": [
    "# Python 3 \n",
    "# Using Panda to create a simple budget tracker"
   ]
  },
  {
   "cell_type": "code",
   "execution_count": null,
   "id": "13e19876",
   "metadata": {},
   "outputs": [],
   "source": [
    "# import module\n",
    "import pandas as pd\n",
    "from matplotlib import pyplot as plt"
   ]
  },
  {
   "cell_type": "code",
   "execution_count": null,
   "id": "cb33c13b",
   "metadata": {},
   "outputs": [],
   "source": [
    "# color negative value with red \n",
    "def color_negative_red(val):\n",
    "    color = 'red' if val < 0 else 'white'\n",
    "    return 'color: % s' % color"
   ]
  },
  {
   "cell_type": "code",
   "execution_count": null,
   "id": "8ed8f0b6",
   "metadata": {},
   "outputs": [],
   "source": [
    "# A function to refresh the record\n",
    "class budgettracker:\n",
    "    def __init__(self,totalspent,spendingrecord):\n",
    "        try:\n",
    "            self.totalspent = pd.read_excel(totalspent,engine = 'openpyxl')\n",
    "        except:\n",
    "            self.totalspent = self.createnewdf()\n",
    "        self.spendingrecord = pd.read_excel(spendingrecord,engine='openpyxl')\n",
    "        self.totalspent.set_index(['category'],inplace=True,append=True,drop=True)\n",
    "        # Create a writer using XlsxWriter as the engine\n",
    "        self.writer2= pd.ExcelWriter(spendingrecord,engine='xlsxwriter')\n",
    "    \n",
    "    # updating the total spent sheet with new data \n",
    "    def refresh(self):\n",
    "        #Clear previous entry\n",
    "        for item in self.totalspent.index:\n",
    "            self.totalspent.loc[item,'Actual amount'] = 0\n",
    "        \n",
    "        # A linear search loop that match the entry category to the summary page and add up all the entries\n",
    "        for item in self.spendingrecord.index:\n",
    "            for category in self.totalspent.index:\n",
    "                if self.spendingrecord.loc[item,'Category'].lower()==category[1].lower():\n",
    "                    self.totalspent.loc[category,'Actual amount']=float(self.totalspent.loc[category,'Actual amount'])+float(self.spendingrecord.loc[item,'Amount'])\n",
    "        self.totalspent['difference']=self.totalspent['Planned amount']-self.totalspent['Actual amount']\n",
    "    \n",
    "    # Show how much you spend\n",
    "    def totalspents(self):\n",
    "        return self.totalspent.style.applymap(color_negative_red)\n",
    "    \n",
    "    # Show your spending record\n",
    "    def spendingrecords(self):\n",
    "        return self.spendingrecord.style\n",
    "\n",
    "   # plot a bar chart \n",
    "    def plotgraph(self):\n",
    "        self.totalspent.plot.bar(y=['Actual amount','Planned amount'])\n",
    "\n",
    "    # Create a new df for first use \n",
    "    def createnewdf(self):\n",
    "        df = pd.DataFrame({'category': 'food;gifts;health/medical;home;transportation;personal;pets;utilities;travel;debt;other;entertainment;investment;others'.split(';'), 'Planned amount': [0]*14, 'Actual amount':[0]*14})\n",
    "        return df\n",
    "    \n",
    "    # A function that will save your spending record and shut down the program\n",
    "    def close(self):\n",
    "        self.spendingrecord.reset_index()\n",
    "        self.spendingrecord.to_excel(self.writer2,sheet_name='Sheet1',index=False)\n",
    "        self.writer2.save()\n",
    "        quit()\n",
    "    \n",
    "    # A function to add new entry to the spending record\n",
    "    def addentry(self,date,amount,Description,Category):\n",
    "        newentry = {'Date':date,'Amount':float(amount),'Description':Description,'Category':Category}\n",
    "        self.spendingrecord=self.spendingrecord.append(newentry,ignore_index=True)\n",
    "        \n",
    "    # A function to remove entry from the spending record\n",
    "    def removeentry(self,date,amount):\n",
    "        for item in self.spendingrecord.index:\n",
    "            if self.spendingrecord.loc[item,'Date'] == date and self.spendingrecord.loc[item,'Amount']==float(amount):\n",
    "                self.spendingrecord = self.spendingrecord.drop([item])\n",
    "        "
   ]
  },
  {
   "cell_type": "code",
   "execution_count": null,
   "id": "b9c3dc40",
   "metadata": {},
   "outputs": [],
   "source": [
    "# read data from excel and transfer it to pd\n",
    "# interface\n",
    "tracker = budgettracker('data.xlsx','spendingrecord.xlsx')\n",
    "tracker.refresh()\n",
    "tracker.totalspents()"
   ]
  },
  {
   "cell_type": "code",
   "execution_count": null,
   "id": "d790e183",
   "metadata": {},
   "outputs": [],
   "source": [
    "inputs = ''\n",
    "\n",
    "while inputs !=0 :\n",
    "    inputs = input(\"Press 1 for bar chart \\nPress 2 to create a new entry\\nPress 3 to delete an old entry\\nPress 4 to show total spending\\nPress 5 to show spending record\\nPress 0 to quit\")\n",
    "    inputs = int(inputs)\n",
    "    print (inputs)\n",
    "    if inputs == 1:\n",
    "        tracker.plotgraph()\n",
    "        \n",
    "    if inputs == 2:\n",
    "        date = input(\"Date? \")\n",
    "        amount = input(\"Amount? \")\n",
    "        Description = input(\"Description? \")\n",
    "        Category = input(\"Category? \")\n",
    "        tracker.addentry(date,amount,Description,Category)\n",
    "        tracker.refresh()\n",
    "        print(\"Entry added\")\n",
    "        display(tracker.spendingrecords())\n",
    "        \n",
    "    if inputs == 3:\n",
    "        date = input(\"Date? \")\n",
    "        amount = input(\"Amount? \")\n",
    "        tracker.removeentry(date,amount)\n",
    "        tracker.refresh()\n",
    "        print(\"Entry removed\")\n",
    "        display(tracker.spendingrecords())\n",
    "        \n",
    "    if inputs == 4:\n",
    "        display(tracker.totalspents())\n",
    "        \n",
    "    if inputs == 5:\n",
    "        display(tracker.spendingrecords())\n",
    "        \n",
    "    if inputs == 0:\n",
    "        tracker.close()\n",
    "        \n",
    "    plt.pause(0.0001) # A function to pause the graph for 0.0001 sec so it display"
   ]
  },
  {
   "cell_type": "code",
   "execution_count": null,
   "id": "cf79180e",
   "metadata": {},
   "outputs": [],
   "source": []
  }
 ],
 "metadata": {
  "kernelspec": {
   "display_name": "Python 3",
   "language": "python",
   "name": "python3"
  },
  "language_info": {
   "codemirror_mode": {
    "name": "ipython",
    "version": 3
   },
   "file_extension": ".py",
   "mimetype": "text/x-python",
   "name": "python",
   "nbconvert_exporter": "python",
   "pygments_lexer": "ipython3",
   "version": "3.7.10"
  }
 },
 "nbformat": 4,
 "nbformat_minor": 5
}
